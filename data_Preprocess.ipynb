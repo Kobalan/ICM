{
 "cells": [
  {
   "cell_type": "markdown",
   "metadata": {},
   "source": [
    "## 1. Understanding the Data"
   ]
  },
  {
   "cell_type": "markdown",
   "metadata": {},
   "source": [
    "### I. GATHERING OR LOADING THE DATA"
   ]
  },
  {
   "cell_type": "code",
   "execution_count": null,
   "metadata": {},
   "outputs": [],
   "source": [
    "#import necessary libraries\n",
    "\n",
    "import pandas as pd\n",
    "import seaborn as sns\n",
    "import numpy as np\n",
    "import matplotlib.pyplot as plt\n",
    "df=pd.read_csv('Copper_Set.csv')\n",
    "df.head(2)\n",
    "\n",
    "#Target--> Selling Price"
   ]
  },
  {
   "cell_type": "markdown",
   "metadata": {},
   "source": [
    "### II. Understanding the details of the data"
   ]
  },
  {
   "cell_type": "code",
   "execution_count": null,
   "metadata": {},
   "outputs": [],
   "source": [
    "print(df.info())"
   ]
  },
  {
   "cell_type": "code",
   "execution_count": null,
   "metadata": {},
   "outputs": [],
   "source": [
    "print(df.isnull().sum())"
   ]
  },
  {
   "cell_type": "code",
   "execution_count": null,
   "metadata": {},
   "outputs": [],
   "source": [
    "print(df.nunique())"
   ]
  },
  {
   "cell_type": "code",
   "execution_count": null,
   "metadata": {},
   "outputs": [],
   "source": [
    "df.columns"
   ]
  },
  {
   "cell_type": "code",
   "execution_count": null,
   "metadata": {},
   "outputs": [],
   "source": [
    "df.dtypes"
   ]
  },
  {
   "cell_type": "code",
   "execution_count": null,
   "metadata": {},
   "outputs": [],
   "source": [
    "df.shape"
   ]
  },
  {
   "cell_type": "code",
   "execution_count": null,
   "metadata": {},
   "outputs": [],
   "source": [
    "df.describe()"
   ]
  },
  {
   "cell_type": "markdown",
   "metadata": {},
   "source": [
    "## 2.Data Preprocessing And EDA"
   ]
  },
  {
   "cell_type": "markdown",
   "metadata": {},
   "source": [
    "### I.Converting the irregular datatypes of the Column"
   ]
  },
  {
   "cell_type": "code",
   "execution_count": null,
   "metadata": {},
   "outputs": [],
   "source": [
    "# dealing with data in wrong format,for categorical variables, this step is ignored\n",
    "df['item_date'] = pd.to_datetime(df['item_date'], format='%Y%m%d', errors='coerce').dt.date\n",
    "df['quantity tons'] = pd.to_numeric(df['quantity tons'], errors='coerce')\n",
    "df['material_ref'] = df['material_ref'].str.lstrip('0')\n",
    "df['delivery date'] = pd.to_datetime(df['delivery date'], format='%Y%m%d', errors='coerce').dt.date\n",
    "print(df.dtypes)"
   ]
  },
  {
   "cell_type": "markdown",
   "metadata": {},
   "source": [
    "### II.Handle missing values with mean/median/mode."
   ]
  },
  {
   "cell_type": "code",
   "execution_count": null,
   "metadata": {},
   "outputs": [],
   "source": [
    "df.isnull().sum()"
   ]
  },
  {
   "cell_type": "code",
   "execution_count": null,
   "metadata": {},
   "outputs": [],
   "source": [
    "# material_ref has large set of null values\n",
    "df.drop(columns=['id','material_ref'], inplace=True)"
   ]
  },
  {
   "cell_type": "code",
   "execution_count": null,
   "metadata": {},
   "outputs": [],
   "source": [
    "df.describe().T"
   ]
  },
  {
   "cell_type": "code",
   "execution_count": null,
   "metadata": {},
   "outputs": [],
   "source": [
    "# quantity and selling price values are not below 0. so we convert to null for below 0 values.\n",
    "\n",
    "df['quantity tons'] = df['quantity tons'].apply(lambda x: np.nan if x<=0 else x)\n",
    "df['selling_price'] = df['selling_price'].apply(lambda x: np.nan if x<=0 else x)\n",
    "df.describe().T"
   ]
  },
  {
   "cell_type": "code",
   "execution_count": null,
   "metadata": {},
   "outputs": [],
   "source": [
    "df.isnull().sum()"
   ]
  },
  {
   "cell_type": "code",
   "execution_count": null,
   "metadata": {},
   "outputs": [],
   "source": [
    "#Imputing the missing Values\n",
    "def median_Impute(df,columns):\n",
    "    median_Value=df[columns].median()\n",
    "    #df[columns].fillna(median_Value,inplace=True)\n",
    "    df.fillna({columns: median_Value}, inplace=True)\n",
    "    \n",
    "    \n",
    "def mode_Impute(df,columns):\n",
    "    mode_Value=df[columns].mode()[0]\n",
    "    #df[columns].fillna(mode_Value,inplace=True)\n",
    "    df.fillna({columns: mode_Value}, inplace=True)\n",
    "    \n",
    "numerical_Cols=[column for column in df.columns if df[column].dtype!='object']\n",
    "for col in numerical_Cols:\n",
    "    median_Impute(df,col)\n",
    "\n",
    "object_Cols=[column for column in df.columns if df[column].dtype=='object']\n",
    "for  col in object_Cols:\n",
    "    mode_Impute(df,col)\n"
   ]
  },
  {
   "cell_type": "code",
   "execution_count": null,
   "metadata": {},
   "outputs": [],
   "source": [
    "# convert categorical data into numerical data - using map and ordinal encoder methods\n",
    "from sklearn.preprocessing import OrdinalEncoder\n",
    "df['status'] = df['status'].map({'Lost':0, 'Won':1, 'Draft':2, 'To be approved':3, 'Not lost for AM':4,\n",
    "                                 'Wonderful':5, 'Revised':6, 'Offered':7, 'Offerable':8})\n",
    "df['item type'] = OrdinalEncoder().fit_transform(df[['item type']])"
   ]
  },
  {
   "cell_type": "code",
   "execution_count": null,
   "metadata": {},
   "outputs": [],
   "source": [
    "print(df.status.unique())\n",
    "df['item type'].unique()"
   ]
  },
  {
   "cell_type": "code",
   "execution_count": null,
   "metadata": {},
   "outputs": [],
   "source": [
    "df.shape"
   ]
  },
  {
   "cell_type": "code",
   "execution_count": null,
   "metadata": {},
   "outputs": [],
   "source": [
    "df.isnull().sum()"
   ]
  },
  {
   "cell_type": "markdown",
   "metadata": {},
   "source": [
    "### III.Identify Skewness in the dataset"
   ]
  },
  {
   "cell_type": "code",
   "execution_count": null,
   "metadata": {},
   "outputs": [],
   "source": [
    "# find outliers - box plot & skewed data - hist plot and violin plot\n",
    "\n",
    "def plot(df, column):\n",
    "    plt.figure(figsize=(20,5))\n",
    "    plt.subplot(1,3,1)\n",
    "    sns.boxplot(data=df, x=column)\n",
    "    plt.title(f'Box Plot for {column}')\n",
    "\n",
    "    plt.subplot(1,3,2)\n",
    "    sns.histplot(data=df, x=column, kde=True, bins=50)\n",
    "    plt.title(f'Distribution Plot for {column}')\n",
    "\n",
    "    plt.subplot(1,3,3)\n",
    "    sns.violinplot(data=df, x=column)\n",
    "    plt.title(f'Violin Plot for {column}')\n",
    "    plt.show()"
   ]
  },
  {
   "cell_type": "markdown",
   "metadata": {},
   "source": [
    "### IV.Before Treating Skewness"
   ]
  },
  {
   "cell_type": "code",
   "execution_count": null,
   "metadata": {},
   "outputs": [],
   "source": [
    "for i in ['quantity tons', 'customer', 'country', 'item type', 'application', 'thickness', 'width', 'selling_price']:\n",
    "    plot(df, i)"
   ]
  },
  {
   "cell_type": "code",
   "execution_count": null,
   "metadata": {},
   "outputs": [],
   "source": [
    "df.describe().T"
   ]
  },
  {
   "cell_type": "markdown",
   "metadata": {},
   "source": [
    "### V. After Treating Skewness-- Feature Scaling"
   ]
  },
  {
   "cell_type": "code",
   "execution_count": null,
   "metadata": {},
   "outputs": [],
   "source": [
    "# quantity tons, thickness and selling price data are skewd. so using the log transformation method to handle the skewness data\n",
    "\n",
    "df1 = df.copy()\n",
    "df1['quantity tons_log'] = np.log(df1['quantity tons'])\n",
    "df1['thickness_log'] = np.log(df1['thickness'])\n",
    "df1['selling_price_log'] = np.log(df1['selling_price'])\n",
    "\n",
    "# after log transformation the data are normally distributed and reduced the skewness. [hist plot and violin plot]\n",
    "for i in ['quantity tons_log', 'thickness_log', 'width', 'selling_price_log']:\n",
    "    plot(df1, i)"
   ]
  },
  {
   "cell_type": "code",
   "execution_count": null,
   "metadata": {},
   "outputs": [],
   "source": [
    "df1.shape"
   ]
  },
  {
   "cell_type": "code",
   "execution_count": null,
   "metadata": {},
   "outputs": [],
   "source": [
    "df1.describe().T"
   ]
  },
  {
   "cell_type": "markdown",
   "metadata": {},
   "source": [
    "### Vi.Outliers Handling using IQR[Inter Quartile Range]"
   ]
  },
  {
   "cell_type": "code",
   "execution_count": null,
   "metadata": {},
   "outputs": [],
   "source": [
    "df2 = df1.copy()"
   ]
  },
  {
   "cell_type": "code",
   "execution_count": null,
   "metadata": {},
   "outputs": [],
   "source": [
    "# Using IQR and clip() methods to handle the outliers and add a new column of dataframe\n",
    "\n",
    "def outlier(df, column):\n",
    "    iqr = df[column].quantile(0.75) - df[column].quantile(0.25)\n",
    "    upper_threshold = df[column].quantile(0.75) + (1.5*iqr)\n",
    "    lower_threshold = df[column].quantile(0.25) - (1.5*iqr)\n",
    "    df[column] = df[column].clip(lower_threshold, upper_threshold)\n",
    "    print(upper_threshold,lower_threshold)\n",
    "     \n",
    "\n",
    "# (Ex: lower threshold = 5 and upper threshold = 20)\n",
    "# above upper threshold values (>20) are converted to upper threshold value (20) in features\n",
    "# below lower threshold values (<5)  are converted to lower threshold value (5)  in features\n",
    "\n",
    "outlier(df2, 'quantity tons_log')\n",
    "outlier(df2, 'thickness_log')\n",
    "outlier(df2, 'selling_price_log')\n",
    "outlier(df2, 'width')\n"
   ]
  },
  {
   "cell_type": "code",
   "execution_count": null,
   "metadata": {},
   "outputs": [],
   "source": [
    "df2.shape"
   ]
  },
  {
   "cell_type": "markdown",
   "metadata": {},
   "source": [
    "### VII.Visualizing after treating the Outlier"
   ]
  },
  {
   "cell_type": "code",
   "execution_count": null,
   "metadata": {},
   "outputs": [],
   "source": [
    "# transform the outliers to within range using IQR and clip() methods - box plot\n",
    "\n",
    "for i in ['quantity tons_log', 'thickness_log', 'width', 'selling_price_log']:\n",
    "    plot(df2, i)"
   ]
  },
  {
   "cell_type": "code",
   "execution_count": null,
   "metadata": {},
   "outputs": [],
   "source": [
    "df2.describe().T"
   ]
  },
  {
   "cell_type": "code",
   "execution_count": null,
   "metadata": {},
   "outputs": [],
   "source": [
    "df2.isnull().sum()"
   ]
  },
  {
   "cell_type": "code",
   "execution_count": null,
   "metadata": {},
   "outputs": [],
   "source": [
    "df2. dtypes"
   ]
  },
  {
   "cell_type": "code",
   "execution_count": null,
   "metadata": {},
   "outputs": [],
   "source": [
    "df2['item_date']=pd.to_datetime(df2['item_date'])\n",
    "df2['delivery date']=pd.to_datetime(df2['delivery date'])"
   ]
  },
  {
   "cell_type": "code",
   "execution_count": null,
   "metadata": {},
   "outputs": [],
   "source": [
    "df2['item_date_day']=df2['item_date'].dt.day\n",
    "df2['item_date_month']=df2['item_date'].dt.month\n",
    "df2['item_date_year']=df2['item_date'].dt.year"
   ]
  },
  {
   "cell_type": "code",
   "execution_count": null,
   "metadata": {},
   "outputs": [],
   "source": [
    "df2['delivery_date_day']=df2['delivery date'].dt.day\n",
    "df2['delivery_date_month']=df2['delivery date'].dt.month\n",
    "df2['delivery_date_year']=df2['delivery date'].dt.year"
   ]
  },
  {
   "cell_type": "code",
   "execution_count": null,
   "metadata": {},
   "outputs": [],
   "source": [
    "# after add the new column of 'quantity tons_log', 'thickness_log', 'selling_price_log', drop the existing columns\n",
    "df3 = df2.drop(columns=['quantity tons', 'thickness', 'selling_price','item_date','delivery date'])\n",
    "# df3"
   ]
  },
  {
   "cell_type": "code",
   "execution_count": null,
   "metadata": {},
   "outputs": [],
   "source": [
    "df3.head(2)"
   ]
  },
  {
   "cell_type": "code",
   "execution_count": null,
   "metadata": {},
   "outputs": [],
   "source": [
    "df3.dtypes\n",
    "df3.shape"
   ]
  },
  {
   "cell_type": "markdown",
   "metadata": {},
   "source": [
    "### II. SNS Heat Map"
   ]
  },
  {
   "cell_type": "code",
   "execution_count": null,
   "metadata": {},
   "outputs": [],
   "source": [
    "# Need to verify any columns are highly correlated using Heatmap. If any columns correalaion value >= 0.7 (absolute value), drop the columns.\n",
    "\n",
    "col = ['quantity tons_log','customer','country','status','item type','application','width','product_ref','thickness_log','selling_price_log']\n",
    "df_heatmap = df3[col].corr()\n",
    "sns.heatmap(df_heatmap, annot=True)"
   ]
  },
  {
   "cell_type": "markdown",
   "metadata": {},
   "source": [
    "## Regression Method- Predicting Selling Price"
   ]
  },
  {
   "cell_type": "code",
   "execution_count": null,
   "metadata": {},
   "outputs": [],
   "source": [
    "from sklearn.model_selection import train_test_split,GridSearchCV\n",
    "from sklearn.metrics import  mean_squared_error, r2_score\n",
    "from sklearn.tree import DecisionTreeRegressor\n",
    "from sklearn.linear_model import LinearRegression\n",
    "from sklearn.ensemble import RandomForestRegressor\n",
    "from sklearn.ensemble import AdaBoostRegressor\n",
    "from sklearn.ensemble import GradientBoostingRegressor\n",
    "from xgboost import XGBRegressor\n",
    "import pickle"
   ]
  },
  {
   "cell_type": "code",
   "execution_count": null,
   "metadata": {},
   "outputs": [],
   "source": [
    "df3.columns"
   ]
  },
  {
   "cell_type": "code",
   "execution_count": null,
   "metadata": {},
   "outputs": [],
   "source": [
    "df3.head(2)"
   ]
  },
  {
   "cell_type": "markdown",
   "metadata": {},
   "source": [
    "### Train Test Split"
   ]
  },
  {
   "cell_type": "code",
   "execution_count": null,
   "metadata": {},
   "outputs": [],
   "source": [
    "# check the train and test accuracy using R2 (R-squared ---> coefficient of determination) to predict selling price\n",
    "\n",
    "def machine_learning_regression(df, algorithm):\n",
    "\n",
    "    x = df.drop(columns=['selling_price_log'], axis=1)\n",
    "    y = df['selling_price_log']\n",
    "    x_train, x_test, y_train, y_test = train_test_split(x,y,test_size=0.2,random_state=42)\n",
    "\n",
    "    model = algorithm().fit(x_train, y_train)\n",
    "    # y_pred_train = model.predict(x_train)\n",
    "    y_pred= model.predict(x_test)\n",
    "    # r2_train = r2_score(y_train, y_pred_train)\n",
    "    r2_Score_Value = r2_score(y_test, y_pred)\n",
    "    MSE_Value=mean_squared_error(y_test,y_pred)\n",
    "    accuracy_metrics = {'algorithm': algorithm.__name__,\n",
    "                        'R2_Score' : r2_Score_Value,\n",
    "                        'MSE'  : MSE_Value}\n",
    "\n",
    "    return accuracy_metrics"
   ]
  },
  {
   "cell_type": "code",
   "execution_count": 106,
   "metadata": {},
   "outputs": [
    {
     "name": "stdout",
     "output_type": "stream",
     "text": [
      "{'algorithm': 'DecisionTreeRegressor', 'R2_Score': 0.9266162847712779, 'MSE': 0.004762257374862845}\n",
      "{'algorithm': 'LinearRegression', 'R2_Score': 0.5353780950262811, 'MSE': 0.03015177259133773}\n",
      "{'algorithm': 'RandomForestRegressor', 'R2_Score': 0.958534607756915, 'MSE': 0.002690908594580445}\n",
      "{'algorithm': 'AdaBoostRegressor', 'R2_Score': 0.6409028101658574, 'MSE': 0.023303715752876413}\n",
      "{'algorithm': 'GradientBoostingRegressor', 'R2_Score': 0.8882504568194177, 'MSE': 0.007252018850375516}\n",
      "{'algorithm': 'XGBRegressor', 'R2_Score': 0.9476250822398278, 'MSE': 0.0033988854009886905}\n"
     ]
    }
   ],
   "source": [
    "print(machine_learning_regression(df3, DecisionTreeRegressor))\n",
    "print(machine_learning_regression(df3, LinearRegression))\n",
    "print(machine_learning_regression(df3, RandomForestRegressor))\n",
    "print(machine_learning_regression(df3, AdaBoostRegressor))\n",
    "print(machine_learning_regression(df3, GradientBoostingRegressor))\n",
    "print(machine_learning_regression(df3, XGBRegressor))    "
   ]
  },
  {
   "cell_type": "markdown",
   "metadata": {},
   "source": [
    "### Random Forest Performs good.It has low MSE and high r2 Value. So I Choose this Algorithm for Regression"
   ]
  },
  {
   "cell_type": "code",
   "execution_count": null,
   "metadata": {},
   "outputs": [],
   "source": [
    "\n",
    "# GridsearchCV is a cross validation function.\n",
    "\n",
    "# Hyper parameter tuning - we give parameter values manually in the algorithm to reduce the overfitting issue and get better accuracy.\n",
    "\n",
    "# so using gridserachcv method - to pass the mulitiple values in each parameters and it try to evaluate all the combination of values and\n",
    "# finally return the best accuracy parameter values based on the score.\n",
    "\n",
    "# example: {'max_depth': 20, 'max_features': 'sqrt', 'min_samples_leaf': 1, 'min_samples_split': 2}\n",
    "\n",
    "# note: This process can take long time (avg: 1 hour 15 mins). Please wait be patient."
   ]
  },
  {
   "cell_type": "code",
   "execution_count": null,
   "metadata": {},
   "outputs": [],
   "source": [
    "\n",
    "x = df3.drop(columns=['selling_price_log'], axis=1)\n",
    "y = df3['selling_price_log']\n",
    "x_train, x_test, y_train, y_test = train_test_split(x,y,test_size=0.2,random_state=42)\n",
    "\n",
    "param_grid_r = {'max_depth': [2, 5, 10, 20],\n",
    "              'min_samples_split': [2, 5, 10],\n",
    "              'min_samples_leaf' : [1, 2, 4],\n",
    "              'max_features'     : ['sqrt', 'log2', None]}\n",
    "\n",
    "grid_search_r = GridSearchCV(estimator=RandomForestRegressor(), param_grid=param_grid_r, cv=5, n_jobs=-1)\n",
    "grid_search_r.fit(x_train, y_train)\n",
    "\n",
    "# n_jobs = -1 means it uses the all processors in this process\n",
    "\n",
    "\n",
    "# evaluate all the parameter combinations and return the best parameters based on score\n"
   ]
  },
  {
   "cell_type": "code",
   "execution_count": 104,
   "metadata": {},
   "outputs": [
    {
     "name": "stdout",
     "output_type": "stream",
     "text": [
      "{'max_depth': 20, 'max_features': None, 'min_samples_leaf': 1, 'min_samples_split': 2}\n",
      "0.9544892667784272\n"
     ]
    }
   ],
   "source": [
    "print(grid_search_r.best_params_)\n",
    "\n",
    "print(grid_search_r.best_score_)"
   ]
  },
  {
   "cell_type": "markdown",
   "metadata": {},
   "source": [
    "### Hyperparameter Tuning For Choosing the best parameter"
   ]
  },
  {
   "cell_type": "code",
   "execution_count": 105,
   "metadata": {},
   "outputs": [
    {
     "data": {
      "text/plain": [
       "{'R2': 0.9576634281901556,\n",
       " 'Mean Squared Error': 0.0027474440439468175,\n",
       " 'Root Mean Squared Error': 0.052416066658485715}"
      ]
     },
     "execution_count": 105,
     "metadata": {},
     "output_type": "execute_result"
    }
   ],
   "source": [
    "\n",
    "# predict the selling price with hypertuning parameters and calculate the accuracy using metrics\n",
    "\n",
    "x = df3.drop(columns=['selling_price_log'], axis=1)\n",
    "y = df3['selling_price_log']\n",
    "x_train, x_test, y_train, y_test = train_test_split(x,y,test_size=0.2,random_state=42)\n",
    "\n",
    "model = RandomForestRegressor(max_depth=20, max_features=None, min_samples_leaf=1, min_samples_split=2).fit(x_train, y_train)\n",
    "y_pred = model.predict(x_test)\n",
    "\n",
    "mse = mean_squared_error(y_test, y_pred)\n",
    "rmse = np.sqrt(mse)\n",
    "r2 = r2_score(y_test, y_pred)\n",
    "\n",
    "metrics_r = {'R2': r2,\n",
    "           'Mean Squared Error': mse,\n",
    "           'Root Mean Squared Error': rmse}\n",
    "\n",
    "metrics_r"
   ]
  },
  {
   "cell_type": "markdown",
   "metadata": {},
   "source": [
    "{'algorithm': 'RandomForestRegressor', 'R2_Score': 0.958534607756915, 'MSE': 0.002690908594580445}"
   ]
  },
  {
   "cell_type": "markdown",
   "metadata": {},
   "source": [
    "Manual Input"
   ]
  },
  {
   "cell_type": "code",
   "execution_count": 108,
   "metadata": {},
   "outputs": [],
   "source": [
    "# save the regression model by using pickle\n",
    "\n",
    "with open('regression_model.pkl', 'wb') as f:\n",
    "    pickle.dump(model, f)"
   ]
  },
  {
   "cell_type": "code",
   "execution_count": 109,
   "metadata": {},
   "outputs": [
    {
     "name": "stderr",
     "output_type": "stream",
     "text": [
      "c:\\Users\\Kobalan M\\AppData\\Local\\Programs\\Python\\Python312\\Lib\\site-packages\\sklearn\\base.py:493: UserWarning: X does not have valid feature names, but RandomForestRegressor was fitted with feature names\n",
      "  warnings.warn(\n"
     ]
    },
    {
     "data": {
      "text/plain": [
       "1024.6454329765763"
      ]
     },
     "execution_count": 109,
     "metadata": {},
     "output_type": "execute_result"
    }
   ],
   "source": [
    "# load the pickle model to predict selling price\n",
    "\n",
    "with open('regression_model.pkl', 'rb') as f:\n",
    "    model = pickle.load(f)\n",
    "\n",
    "y_pred = model.predict(np.array([[30202938,25,1,5,41,1210,1668701718,6.6,-0.2,1,4,2021,1,4,2021]]))\n",
    "np.exp(y_pred[0])\n"
   ]
  },
  {
   "cell_type": "markdown",
   "metadata": {},
   "source": [
    "## Classification"
   ]
  },
  {
   "cell_type": "code",
   "execution_count": 110,
   "metadata": {},
   "outputs": [],
   "source": [
    "from imblearn.combine import SMOTETomek\n",
    "from sklearn.linear_model import LogisticRegression\n",
    "from sklearn.preprocessing import OrdinalEncoder\n",
    "from sklearn.model_selection import train_test_split, GridSearchCV\n",
    "from sklearn import metrics\n",
    "from sklearn.tree import DecisionTreeClassifier\n",
    "from sklearn.ensemble import RandomForestClassifier\n",
    "from sklearn.ensemble import AdaBoostClassifier\n",
    "from sklearn.ensemble import GradientBoostingClassifier\n",
    "from xgboost import XGBClassifier\n",
    "from sklearn.metrics import confusion_matrix, classification_report, roc_curve, auc\n",
    "import matplotlib.pyplot as plt\n",
    "import pickle"
   ]
  },
  {
   "cell_type": "code",
   "execution_count": 111,
   "metadata": {},
   "outputs": [
    {
     "data": {
      "text/plain": [
       "array([1, 2, 3, 0, 4, 5, 6, 7, 8], dtype=int64)"
      ]
     },
     "execution_count": 111,
     "metadata": {},
     "output_type": "execute_result"
    }
   ],
   "source": [
    "df3.status.unique()"
   ]
  },
  {
   "cell_type": "code",
   "execution_count": null,
   "metadata": {},
   "outputs": [],
   "source": [
    "df3.shape"
   ]
  },
  {
   "cell_type": "code",
   "execution_count": 112,
   "metadata": {},
   "outputs": [
    {
     "data": {
      "text/plain": [
       "(150450, 16)"
      ]
     },
     "execution_count": 112,
     "metadata": {},
     "output_type": "execute_result"
    }
   ],
   "source": [
    "df3 = df3[(df3.status == 1) | (df3.status == 0)]\n",
    "df3.shape"
   ]
  },
  {
   "cell_type": "code",
   "execution_count": null,
   "metadata": {},
   "outputs": [],
   "source": [
    "df3.status.value_counts()"
   ]
  },
  {
   "cell_type": "code",
   "execution_count": 113,
   "metadata": {},
   "outputs": [
    {
     "data": {
      "text/plain": [
       "((150450, 15), (150450,), (229470, 15), (229470,))"
      ]
     },
     "execution_count": 113,
     "metadata": {},
     "output_type": "execute_result"
    }
   ],
   "source": [
    "\n",
    "# in status feature, the 'Won' and 'Lost' value difference is very high. So we need to oversampling to reduce the difference\n",
    "\n",
    "x = df3.drop('status', axis=1)\n",
    "y = df3['status']\n",
    "\n",
    "x_new, y_new = SMOTETomek().fit_resample(x,y)\n",
    "x.shape, y.shape, x_new.shape, y_new.shape"
   ]
  },
  {
   "cell_type": "code",
   "execution_count": 114,
   "metadata": {},
   "outputs": [],
   "source": [
    "\n",
    "# check the accuracy of training and testing using metrics\n",
    "# algorithm.__name__  - it return the algorithm name\n",
    "\n",
    "def machine_learning_classification(x_new,y_new, algorithm):\n",
    "\n",
    "    x_train, x_test, y_train, y_test = train_test_split(x_new, y_new, test_size=0.2, random_state=42)\n",
    "    model = algorithm().fit(x_train, y_train)\n",
    "\n",
    "    # y_pred_train = model.predict(x_train)\n",
    "    y_pred = model.predict(x_test)\n",
    "\n",
    "    # accuracy_train = metrics.accuracy_score(y_train, y_pred_train)\n",
    "    accuracy= metrics.accuracy_score(y_test, y_pred)\n",
    "    precision=metrics.precision_score(y_test,y_pred)\n",
    "  \n",
    "    accuracy_metrics = {'algorithm'    : algorithm.__name__,\n",
    "                        'accuracy': accuracy,\n",
    "                        'Precision' : precision}\n",
    "\n",
    "    return accuracy_metrics"
   ]
  },
  {
   "cell_type": "code",
   "execution_count": 115,
   "metadata": {},
   "outputs": [
    {
     "name": "stdout",
     "output_type": "stream",
     "text": [
      "{'algorithm': 'LogisticRegression', 'accuracy': 0.5411382751557938, 'Precision': 0.5264992596248766}\n",
      "{'algorithm': 'DecisionTreeClassifier', 'accuracy': 0.9621737046236981, 'Precision': 0.9643377322681732}\n",
      "{'algorithm': 'RandomForestClassifier', 'accuracy': 0.9828299995642132, 'Precision': 0.9910670418509089}\n"
     ]
    },
    {
     "name": "stderr",
     "output_type": "stream",
     "text": [
      "c:\\Users\\Kobalan M\\AppData\\Local\\Programs\\Python\\Python312\\Lib\\site-packages\\sklearn\\ensemble\\_weight_boosting.py:527: FutureWarning: The SAMME.R algorithm (the default) is deprecated and will be removed in 1.6. Use the SAMME algorithm to circumvent this warning.\n",
      "  warnings.warn(\n"
     ]
    },
    {
     "name": "stdout",
     "output_type": "stream",
     "text": [
      "{'algorithm': 'AdaBoostClassifier', 'accuracy': 0.7602954634592757, 'Precision': 0.7619916347779656}\n",
      "{'algorithm': 'GradientBoostingClassifier', 'accuracy': 0.812197672898418, 'Precision': 0.819795807734008}\n",
      "{'algorithm': 'XGBClassifier', 'accuracy': 0.9485771560552577, 'Precision': 0.9621949563091411}\n"
     ]
    }
   ],
   "source": [
    "print(machine_learning_classification(x_new,y_new,LogisticRegression))\n",
    "print(machine_learning_classification(x_new, y_new, DecisionTreeClassifier))\n",
    "print(machine_learning_classification(x_new, y_new, RandomForestClassifier))\n",
    "print(machine_learning_classification(x_new, y_new, AdaBoostClassifier))\n",
    "print(machine_learning_classification(x_new, y_new, GradientBoostingClassifier))\n",
    "print(machine_learning_classification(x_new, y_new, XGBClassifier))"
   ]
  },
  {
   "cell_type": "markdown",
   "metadata": {},
   "source": [
    "\n",
    " GridsearchCV is a cross validation function.\n",
    "\n",
    "Hyper parameter tuning - we give parameter values manually in the algorithm to reduce the overfitting issue and get better accuracy.\n",
    "so using gridserachcv method - to pass the mulitiple values in each parameters and it try to evaluate all the combination of values and\n",
    "finally return the best accuracy parameter values based on the score.\n",
    "\n",
    "example: {'max_depth': 20, 'max_features': 'sqrt', 'min_samples_leaf': 1, 'min_samples_split': 2}\n",
    "\n",
    "note: This process can take long time (avg: 1 hour 15 mins). Please wait be patient."
   ]
  },
  {
   "cell_type": "code",
   "execution_count": 116,
   "metadata": {},
   "outputs": [
    {
     "name": "stdout",
     "output_type": "stream",
     "text": [
      "{'max_depth': 20, 'max_features': 'sqrt', 'min_samples_leaf': 1, 'min_samples_split': 2}\n",
      "0.9729376376278968\n"
     ]
    }
   ],
   "source": [
    "x_train, x_test, y_train, y_test = train_test_split(x_new,y_new,test_size=0.2,random_state=42)\n",
    "\n",
    "param_grid = {'max_depth'        : [2, 5, 10, 20],\n",
    "              'min_samples_split': [2, 5, 10],\n",
    "              'min_samples_leaf' : [1, 2, 4],\n",
    "              'max_features'     : ['sqrt', 'log2']}\n",
    "# n_jobs = -1 means it uses the all processors in this process\n",
    "grid_search = GridSearchCV(estimator=RandomForestClassifier(), param_grid=param_grid, cv=5, n_jobs=-1)\n",
    "grid_search.fit(x_train, y_train)\n",
    "# evaluate all the parameter combinations and return the best parameters based on score\n",
    "print(grid_search.best_params_)\n",
    "print(grid_search.best_score_)"
   ]
  },
  {
   "cell_type": "code",
   "execution_count": 117,
   "metadata": {},
   "outputs": [
    {
     "data": {
      "text/plain": [
       "(0.973700265829956, 0.9912544411041269)"
      ]
     },
     "execution_count": 117,
     "metadata": {},
     "output_type": "execute_result"
    }
   ],
   "source": [
    "\n",
    "# passing the parameters in the random forest algorithm and check the accuracy for training and testing\n",
    "\n",
    "# x_train, x_test, y_train, y_test = train_test_split(x_new,y_new,test_size=0.2,random_state=42)\n",
    "\n",
    "model = RandomForestClassifier(max_depth=20, max_features='sqrt', min_samples_leaf=1, min_samples_split=2).fit(x_train, y_train)\n",
    "# y_pred_train = model.predict(x_train)\n",
    "y_pred_test = model.predict(x_test)\n",
    "# accuracy_train = metrics.accuracy_score(y_train, y_pred_train)\n",
    "accuracy = metrics.accuracy_score(y_test, y_pred_test)\n",
    "precision = metrics.precision_score(y_test, y_pred_test)\n",
    "accuracy, precision"
   ]
  },
  {
   "cell_type": "code",
   "execution_count": 118,
   "metadata": {},
   "outputs": [
    {
     "name": "stdout",
     "output_type": "stream",
     "text": [
      "[[22920   197]\n",
      " [ 1036 21741]]\n",
      "              precision    recall  f1-score   support\n",
      "\n",
      "           0       0.96      0.99      0.97     23117\n",
      "           1       0.99      0.95      0.97     22777\n",
      "\n",
      "    accuracy                           0.97     45894\n",
      "   macro avg       0.97      0.97      0.97     45894\n",
      "weighted avg       0.97      0.97      0.97     45894\n",
      "\n"
     ]
    }
   ],
   "source": [
    "# predict the status and check the accuracy using metrics\n",
    "\n",
    "x_train, x_test, y_train, y_test = train_test_split(x_new,y_new,test_size=0.2,random_state=42)\n",
    "\n",
    "model = RandomForestClassifier(max_depth=20, max_features='sqrt', min_samples_leaf=1, min_samples_split=2).fit(x_train, y_train)\n",
    "y_pred = model.predict(x_test)\n",
    "\n",
    "print(confusion_matrix(y_true=y_test, y_pred=y_pred))\n",
    "print(classification_report(y_true=y_test, y_pred=y_pred))"
   ]
  },
  {
   "cell_type": "code",
   "execution_count": 119,
   "metadata": {},
   "outputs": [
    {
     "name": "stdout",
     "output_type": "stream",
     "text": [
      "0.9729968265089399\n"
     ]
    }
   ],
   "source": [
    "# Receiver Operating Characteristic (ROC) Curve and Area Under the Curve (AUC)\n",
    "\n",
    "FP,TP,threshold = roc_curve(y_true=y_test, y_score=y_pred)\n",
    "auc_curve = auc(x=FP, y=TP)\n",
    "print(auc_curve)"
   ]
  },
  {
   "cell_type": "code",
   "execution_count": 120,
   "metadata": {},
   "outputs": [
    {
     "data": {
      "image/png": "[encoded data removed]",
      "text/plain": [
       "<Figure size 640x480 with 1 Axes>"
      ]
     },
     "metadata": {},
     "output_type": "display_data"
    }
   ],
   "source": [
    "\n",
    "\n",
    "plt.plot(FP, TP, label=f\"ROC Curve (area={round(auc_curve, 2)}) \")\n",
    "plt.plot([0, 1], [0, 1], 'k--')\n",
    "plt.xlim([0.0, 1.0])\n",
    "plt.ylim([0.0, 1.10])\n",
    "plt.xlabel('False Positive Rate')\n",
    "plt.ylabel('True Positive Rate')\n",
    "plt.legend(loc='lower right')\n",
    "plt.show()"
   ]
  },
  {
   "cell_type": "code",
   "execution_count": 121,
   "metadata": {},
   "outputs": [],
   "source": [
    "\n",
    "# save the classification model by using pickle\n",
    "\n",
    "with open('classification_model.pkl', 'wb') as f:\n",
    "    pickle.dump(model, f)"
   ]
  },
  {
   "cell_type": "code",
   "execution_count": 122,
   "metadata": {},
   "outputs": [
    {
     "name": "stdout",
     "output_type": "stream",
     "text": [
      "Lose\n"
     ]
    },
    {
     "name": "stderr",
     "output_type": "stream",
     "text": [
      "c:\\Users\\Kobalan M\\AppData\\Local\\Programs\\Python\\Python312\\Lib\\site-packages\\sklearn\\base.py:493: UserWarning: X does not have valid feature names, but RandomForestClassifier was fitted with feature names\n",
      "  warnings.warn(\n"
     ]
    }
   ],
   "source": [
    "# load pickle model to predict the status (like Trained brain).\n",
    "\n",
    "with open('classification_model.pkl', 'rb') as f:\n",
    "    model = pickle.load(f)\n",
    "\n",
    "user_data = np.array([[30223403, 78, 5, 10, 1500, 1668701718, 2.2, 0, 7.13, 1,4,2021,1,7,2021]])\n",
    "y_p = model.predict(user_data)\n",
    "if y_p[0] == 1:\n",
    "    print('Won')\n",
    "else:\n",
    "    print('Lose')"
   ]
  },
  {
   "cell_type": "code",
   "execution_count": 126,
   "metadata": {},
   "outputs": [
    {
     "data": {
      "text/plain": [
       "array([ 28.,  25.,  30.,  32.,  38.,  78.,  27.,  77., 113.,  79.,  26.,\n",
       "        39.,  40.,  84.,  80., 107.,  89.])"
      ]
     },
     "execution_count": 126,
     "metadata": {},
     "output_type": "execute_result"
    }
   ],
   "source": [
    "df.country.unique()"
   ]
  },
  {
   "cell_type": "code",
   "execution_count": 127,
   "metadata": {},
   "outputs": [
    {
     "data": {
      "text/plain": [
       "array([10., 41., 28., 59., 15.,  4., 38., 56., 42., 26., 27., 19., 20.,\n",
       "       66., 29., 22., 40., 25., 67., 79.,  3., 99.,  2.,  5., 39., 69.,\n",
       "       70., 65., 58., 68.])"
      ]
     },
     "execution_count": 127,
     "metadata": {},
     "output_type": "execute_result"
    }
   ],
   "source": [
    "df.application.unique()"
   ]
  },
  {
   "cell_type": "code",
   "execution_count": 131,
   "metadata": {},
   "outputs": [
    {
     "data": {
      "text/plain": [
       "array([1670798778, 1668701718,     628377,     640665,     611993,\n",
       "       1668701376,  164141591, 1671863738, 1332077137,     640405,\n",
       "       1693867550, 1665572374, 1282007633, 1668701698,     628117,\n",
       "       1690738206,     628112,     640400, 1671876026,  164336407,\n",
       "        164337175, 1668701725, 1665572032,     611728, 1721130331,\n",
       "       1693867563,     611733, 1690738219, 1722207579,  929423819,\n",
       "       1665584320, 1665584662, 1665584642], dtype=int64)"
      ]
     },
     "execution_count": 131,
     "metadata": {},
     "output_type": "execute_result"
    }
   ],
   "source": [
    "df.product_ref.unique()"
   ]
  },
  {
   "cell_type": "code",
   "execution_count": 133,
   "metadata": {},
   "outputs": [
    {
     "data": {
      "text/plain": [
       "1169"
      ]
     },
     "execution_count": 133,
     "metadata": {},
     "output_type": "execute_result"
    }
   ],
   "source": [
    "df.customer.nunique()"
   ]
  }
 ],
 "metadata": {
  "kernelspec": {
   "display_name": "Python 3",
   "language": "python",
   "name": "python3"
  },
  "language_info": {
   "codemirror_mode": {
    "name": "ipython",
    "version": 3
   },
   "file_extension": ".py",
   "mimetype": "text/x-python",
   "name": "python",
   "nbconvert_exporter": "python",
   "pygments_lexer": "ipython3",
   "version": "3.12.2"
  }
 },
 "nbformat": 4,
 "nbformat_minor": 2
}
